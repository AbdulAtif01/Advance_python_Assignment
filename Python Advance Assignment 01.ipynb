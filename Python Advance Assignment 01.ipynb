{
 "cells": [
  {
   "cell_type": "markdown",
   "id": "8ff768c0",
   "metadata": {},
   "source": [
    "# Assignment 01 Solutions\n",
    "1. What is the purpose of Python's OOP?\n"
   ]
  },
  {
   "cell_type": "markdown",
   "id": "60925d9d",
   "metadata": {},
   "source": [
    "Ans: In Python, object-oriented Programming (OOPs) uses objects and classes in programming.\n",
    "\n",
    "It aims to implement real-world entities like inheritance, polymorphisms, encapsulation, etc. in the programming.\n",
    "\n",
    "The main concept of OOPs is to bind the data and the functions that work on that together as a single unit so that no other part of the code can access this data."
   ]
  },
  {
   "cell_type": "markdown",
   "id": "4c3c104b",
   "metadata": {},
   "source": [
    "2. Where does an inheritance search look for an attribute?\n"
   ]
  },
  {
   "cell_type": "markdown",
   "id": "9ce2d358",
   "metadata": {},
   "source": [
    "Ans: Python searches for an attribute in an upward tree of attributes. it first searches for the attribute in its instance and then looks in the class it is generated from, to all super classes listed in its class header"
   ]
  },
  {
   "cell_type": "markdown",
   "id": "47620fcc",
   "metadata": {},
   "source": [
    "3. How do you distinguish between a class object and an instance object?"
   ]
  },
  {
   "cell_type": "markdown",
   "id": "30445d57",
   "metadata": {},
   "source": [
    "Ans: Class is a template for creating objects whereas object is an instance of class\n",
    "\n",
    "Seperate memory is allocated for each object whenever an object is created. but for a class this doesnot happens.\n",
    "\n",
    "A Class is created once. Many objects are created using a class.\n",
    "\n",
    "As Classes have no allocated memory. they can't be manipulated. but objects can be manipulated."
   ]
  },
  {
   "cell_type": "markdown",
   "id": "171fa3be",
   "metadata": {},
   "source": [
    "4. What makes the first argument in a class’s method function special?"
   ]
  },
  {
   "cell_type": "markdown",
   "id": "d8e56e79",
   "metadata": {},
   "source": [
    "Ans: Python Classes usually have three types of methods which are:\n",
    "\n",
    "Instance Methods (object level methods)\n",
    "\n",
    "Class Methods (class level methods)\n",
    "\n",
    "Static Methods (general utility methods)\n",
    "\n",
    "self is the first argument for instance methods. which refers to the object itself\n",
    "\n",
    "cls is the first argument for class methods which refers to the class itself"
   ]
  },
  {
   "cell_type": "markdown",
   "id": "34f0e607",
   "metadata": {},
   "source": [
    "5. What is the purpose of the init method?"
   ]
  },
  {
   "cell_type": "markdown",
   "id": "2462c000",
   "metadata": {},
   "source": [
    "Ans: init is a reseved method in python classes. It serves the role of a constructor in object oriented terminology. This method is called when an object is created from a class and it allows the class to initialize the attributes of the class\n",
    "\n"
   ]
  },
  {
   "cell_type": "markdown",
   "id": "18f4b5a9",
   "metadata": {},
   "source": [
    "6. What is the process for creating a class instance?\n",
    "\n",
    "Ans: To create a class instance, we need to call the class by its name and pass the arguments to the class, which its init method accepts.\n",
    "\n",
    "Example:-\n",
    "my_name = my_class(\"vaishnavi\",\"vaishu\") Here my_name is an instance of class my_class with attributes \"vaishnavi\" and \"Vaishu\"."
   ]
  },
  {
   "cell_type": "markdown",
   "id": "77afd9c0",
   "metadata": {},
   "source": [
    "7. What is the process for creating a class?\n",
    "\n",
    "Ans: class keyword is used to created a class in python. The syntax to create a class in python is class :\n",
    "\n",
    "Example: class shop: ➞ this creates a class called shop"
   ]
  },
  {
   "cell_type": "markdown",
   "id": "a20d0017",
   "metadata": {},
   "source": [
    "8. How would you define the superclasses of a class?\n",
    "\n",
    "Ans Superclass/Parent class is given as a arugment to the child class"
   ]
  },
  {
   "cell_type": "code",
   "execution_count": null,
   "id": "c2e31fe7",
   "metadata": {},
   "outputs": [],
   "source": []
  }
 ],
 "metadata": {
  "kernelspec": {
   "display_name": "Python 3 (ipykernel)",
   "language": "python",
   "name": "python3"
  },
  "language_info": {
   "codemirror_mode": {
    "name": "ipython",
    "version": 3
   },
   "file_extension": ".py",
   "mimetype": "text/x-python",
   "name": "python",
   "nbconvert_exporter": "python",
   "pygments_lexer": "ipython3",
   "version": "3.9.12"
  }
 },
 "nbformat": 4,
 "nbformat_minor": 5
}
